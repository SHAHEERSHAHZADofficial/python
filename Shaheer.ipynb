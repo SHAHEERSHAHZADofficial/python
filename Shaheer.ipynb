{
 "cells": [
  {
   "cell_type": "code",
   "execution_count": 1,
   "id": "d5bbedfb",
   "metadata": {
    "scrolled": true
   },
   "outputs": [
    {
     "name": "stdout",
     "output_type": "stream",
     "text": [
      "hello world\n"
     ]
    }
   ],
   "source": [
    "print(\"hello world\")"
   ]
  },
  {
   "cell_type": "code",
   "execution_count": 17,
   "id": "a44b0725",
   "metadata": {
    "scrolled": true
   },
   "outputs": [
    {
     "name": "stdout",
     "output_type": "stream",
     "text": [
      "5\n"
     ]
    }
   ],
   "source": [
    "a=2\n",
    "b=3\n",
    "c=a+b\n",
    "print(c)"
   ]
  },
  {
   "cell_type": "code",
   "execution_count": null,
   "id": "4f700bcd",
   "metadata": {},
   "outputs": [],
   "source": [
    "print(\"Hello Mohammed\")\n",
    "#hello world programm"
   ]
  },
  {
   "cell_type": "code",
   "execution_count": 14,
   "id": "0d3a5937",
   "metadata": {},
   "outputs": [
    {
     "name": "stdout",
     "output_type": "stream",
     "text": [
      "enter their name Shaheer\n",
      "student: Shaheer\n",
      "enter your computer marks from 100:20\n",
      "computer: 20\n",
      "enter your math marks from 100:30\n",
      "math: 30\n",
      "enter your physics marks from 100:10\n",
      "physics: 10\n",
      "enter your addmath marks from 100:100\n",
      "addmath: 100\n",
      "enter your islamiat marks from 100:90\n",
      "islamiat: 90\n",
      "totalmarks: 250\n",
      "your percentage is : 50.0\n",
      "grade:D\n"
     ]
    }
   ],
   "source": [
    "# ASSIGNMENT 2 WITH INPUT  STARTED\n",
    "\n",
    "name =input(\"enter their name \")\n",
    "print(\"student:\",name)\n",
    "computer=int(input(\"enter your computer marks from 100:\"))\n",
    "print(\"computer:\",computer)\n",
    "math=int(input(\"enter your math marks from 100:\"))\n",
    "print(\"math:\",math)\n",
    "physics=int(input(\"enter your physics marks from 100:\"))\n",
    "print(\"physics:\",physics)\n",
    "addmath=int(input(\"enter your addmath marks from 100:\"))\n",
    "print(\"addmath:\",addmath)\n",
    "islamiat=int(input(\"enter your islamiat marks from 100:\"))\n",
    "print(\"islamiat:\",islamiat)\n",
    "total=computer+islamiat+math+physics+addmath\n",
    "print(\"totalmarks:\",total)\n",
    "percentage=total/500*100\n",
    "print(\"your percentage is :\",percentage)\n",
    "if percentage>=90:\n",
    "  print(\"Grade:A*\")\n",
    "elif percentage>=80:\n",
    "  print(\"grade:A\")\n",
    "elif percentage>=70:\n",
    "   print(\"grade:B\")\n",
    "elif percentage>=60:\n",
    "   print(\"grade:C\")\n",
    "elif percentage>=50:\n",
    "   print(\"grade:D\")\n",
    "elif percentage>=40:\n",
    "   print(\"grade:E\")\n",
    "else :\n",
    "   print(\"grade:Fail\")\n",
    "# ASSIGNMENT 2 WITH INPUT  ENDED\n"
   ]
  },
  {
   "cell_type": "code",
   "execution_count": 16,
   "id": "14c484c4",
   "metadata": {
    "scrolled": false
   },
   "outputs": [
    {
     "name": "stdout",
     "output_type": "stream",
     "text": [
      "your percentage is : 90.0 %\n",
      "Grade:A*\n"
     ]
    }
   ],
   "source": [
    "# ASSIGNMENT 2 STARTED\n",
    "\n",
    "math=100\n",
    "english=80\n",
    "islamiat=90\n",
    "total=math+english+islamiat\n",
    "percentage=total/300*100;\n",
    "print(\"your percentage is :\",percentage,\"%\");\n",
    "if  percentage< 100 and percentage >= 90:\n",
    "  print(\"Grade:A*\");\n",
    "elif percentage<90 and percentage >= 80 :\n",
    "  print(\"grade:A\");\n",
    "elif percentage<80 and percentage >= 70:\n",
    "   print(\"grade:B\");\n",
    "elif percentage<70 and percentage >= 60:\n",
    "  print(\"grade:C\");\n",
    "elif percentage<60 and percentage >= 50:\n",
    "  print(\"grade:D\");\n",
    "elif percentage<50 and percentage >= 33:\n",
    "  print(\"grade:E\");\n",
    "elif percentage <0:\n",
    "  print(\"Enter Accurate Value\");\n",
    "else :\n",
    "  print(\"grade:F\");\n",
    "\n",
    "# ASSIGNMENT 2 ENDED"
   ]
  },
  {
   "cell_type": "code",
   "execution_count": 23,
   "id": "fad29224",
   "metadata": {},
   "outputs": [
    {
     "name": "stdout",
     "output_type": "stream",
     "text": [
      "['hello world', 'jupyterNoteBook', 'flask', 'diango']\n"
     ]
    }
   ],
   "source": [
    "#list\n",
    "name=[\"hello world\",\"jupyterNoteBook\",\"flask\",\"diango\"]\n",
    "print(name)"
   ]
  },
  {
   "cell_type": "code",
   "execution_count": 12,
   "id": "9bcbc398",
   "metadata": {},
   "outputs": [
    {
     "data": {
      "text/plain": [
       "['hello world', 'jupyterNoteBook', 'flask', 'diango']"
      ]
     },
     "execution_count": 12,
     "metadata": {},
     "output_type": "execute_result"
    }
   ],
   "source": [
    "\n",
    "name"
   ]
  },
  {
   "cell_type": "code",
   "execution_count": 15,
   "id": "d65771fa",
   "metadata": {},
   "outputs": [
    {
     "name": "stdout",
     "output_type": "stream",
     "text": [
      "['hello world', 'javascript', 'jupyterNoteBook', 'flask', 'diango']\n"
     ]
    }
   ],
   "source": [
    "name.insert(1,\"javascript\")\n",
    "print(name)"
   ]
  },
  {
   "cell_type": "code",
   "execution_count": 22,
   "id": "05b6cc70",
   "metadata": {},
   "outputs": [
    {
     "data": {
      "text/plain": [
       "['hello world',\n",
       " 'javascript',\n",
       " 'jupyterNoteBook',\n",
       " 'flask',\n",
       " 'diango',\n",
       " 'ahmad',\n",
       " 'ahmad',\n",
       " 'ahmad',\n",
       " 'ahmad']"
      ]
     },
     "execution_count": 22,
     "metadata": {},
     "output_type": "execute_result"
    }
   ],
   "source": [
    "name"
   ]
  },
  {
   "cell_type": "code",
   "execution_count": 25,
   "id": "efbe58f2",
   "metadata": {},
   "outputs": [
    {
     "name": "stdout",
     "output_type": "stream",
     "text": [
      "['hello world', 'jupyterNoteBook', 'flask', 'diango', 'ahmad']\n"
     ]
    }
   ],
   "source": [
    "name.append(\"ahmad\")\n",
    "print(name)"
   ]
  },
  {
   "cell_type": "code",
   "execution_count": 27,
   "id": "14986e04",
   "metadata": {},
   "outputs": [
    {
     "name": "stdout",
     "output_type": "stream",
     "text": [
      "hello Future Data scientist\n"
     ]
    }
   ],
   "source": [
    "print(\"hello Future Data scientist\")"
   ]
  },
  {
   "cell_type": "code",
   "execution_count": 15,
   "id": "d443aa51",
   "metadata": {},
   "outputs": [
    {
     "name": "stdout",
     "output_type": "stream",
     "text": [
      "Twinkle, twinkle, little star,\n",
      "       How I wonder what you are!\n",
      "               Up above the world so high,\n",
      "               Like a diamond in the sky.\n",
      "Twinkle, twinkle, little star,\n",
      "       How I wonder what you are!\n"
     ]
    }
   ],
   "source": [
    "# ASSIGNMENT 3 STARTED\n",
    "# Write a Python program to print the following string in a specific format (see the output).\n",
    "# Twinkle, twinkle, little star,\n",
    "#        How I wonder what you are!\n",
    "#                Up above the world so high,\n",
    "#                Like a diamond in the sky.\n",
    "# Twinkle, twinkle, little star,\n",
    "#         How I wonder what you are\n",
    "secondLine=\"How I wonder what you are!\"\n",
    "print(\"Twinkle, twinkle, little star,\")\n",
    "print(\"\",\"\",\"\",\"\",\"\",\"\",\"\",\"How I wonder what you are!\")\n",
    "print(\"\",\"\",\"\",\"\",\"\",\"\",\"\",\"\",\"\",\"\",\"\",\"\",\"\",\"\",\" Up above the world so high,\")\n",
    "print(\"\",\"\",\"\",\"\",\"\",\"\",\"\",\"\",\"\",\"\",\"\",\"\",\"\",\"\",\" Like a diamond in the sky.\")\n",
    "print(\"Twinkle, twinkle, little star,\")\n",
    "print(\"\",\"\",\"\",\"\",\"\",\"\",\"\",\"How I wonder what you are!\")\n"
   ]
  },
  {
   "cell_type": "code",
   "execution_count": 17,
   "id": "4aeca685",
   "metadata": {},
   "outputs": [
    {
     "name": "stdout",
     "output_type": "stream",
     "text": [
      "3.8.8\n"
     ]
    }
   ],
   "source": [
    "#Write a Python program to get the Python version you are using\n",
    "\n",
    "from platform import python_version\n",
    "print(python_version())"
   ]
  },
  {
   "cell_type": "code",
   "execution_count": 22,
   "id": "0963b7ad",
   "metadata": {},
   "outputs": [
    {
     "name": "stdout",
     "output_type": "stream",
     "text": [
      "2021-10-22 10:49:41.992139\n"
     ]
    }
   ],
   "source": [
    "# Write a Python program to display the current date and time.\n",
    "from datetime import datetime\n",
    "now = datetime.now()\n",
    "print (now)"
   ]
  },
  {
   "cell_type": "code",
   "execution_count": null,
   "id": "bfb3d839",
   "metadata": {},
   "outputs": [],
   "source": [
    "# Write a Python program which accepts the radius of a circle from the user and compute the area."
   ]
  },
  {
   "cell_type": "code",
   "execution_count": 35,
   "id": "3b7f2c2d",
   "metadata": {},
   "outputs": [
    {
     "name": "stdout",
     "output_type": "stream",
     "text": [
      "Write Your First Name : shaheer\n",
      "Write Your Last Name : shahzad\n",
      "['shahzad', 'shaheer']\n"
     ]
    }
   ],
   "source": [
    "# 5. Write a Python program which accepts the user's first and last name and print them in\n",
    "# reverse order with a space between them.\n",
    "firstName= input(\"Write Your First Name : \")\n",
    "lastName= input(\"Write Your Last Name : \")\n",
    "arr=[firstName  ,  lastName]\n",
    "arr.reverse()\n",
    "print(arr)"
   ]
  },
  {
   "cell_type": "code",
   "execution_count": 27,
   "id": "73aeb418",
   "metadata": {},
   "outputs": [
    {
     "name": "stdout",
     "output_type": "stream",
     "text": [
      "Enter First Number 100\n",
      "Enter First Number 100\n",
      "200\n"
     ]
    }
   ],
   "source": [
    "# Write a python program which takes two inputs from user and print them addition\n",
    "firstNum=int(input(\"Enter First Number \"))\n",
    "lastNum=int(input(\"Enter First Number \"))\n",
    "total=firstNum+lastNum\n",
    "print(total)"
   ]
  },
  {
   "cell_type": "code",
   "execution_count": 28,
   "id": "e7b31918",
   "metadata": {
    "scrolled": true
   },
   "outputs": [
    {
     "name": "stdout",
     "output_type": "stream",
     "text": [
      "enter their name Shaheer\n",
      "student: Shaheer\n",
      "enter your computer marks from 100:100\n",
      "computer: 100\n",
      "enter your math marks from 100:90\n",
      "math: 90\n",
      "enter your physics marks from 100:80\n",
      "physics: 80\n",
      "enter your addmath marks from 100:100\n",
      "addmath: 100\n",
      "enter your islamiat marks from 100:80\n",
      "islamiat: 80\n",
      "totalmarks: 450\n",
      "your percentage is : 90.0\n",
      "Grade:A*\n"
     ]
    }
   ],
   "source": [
    "# Write a program which takes 5 inputs from user for different subject’s marks, total it\n",
    "# and generate mark sheet using grades ?\n",
    "\n",
    "name =input(\"enter their name \")\n",
    "computer=int(input(\"enter your computer marks from 100:\"))\n",
    "math=int(input(\"enter your math marks from 100:\"))\n",
    "physics=int(input(\"enter your physics marks from 100:\"))\n",
    "addmath=int(input(\"enter your addmath marks from 100:\"))\n",
    "islamiat=int(input(\"enter your islamiat marks from 100:\"))\n",
    "total=computer+islamiat+math+physics+addmath\n",
    "print(\"student:\",name)\n",
    "print(\"computer:\",computer)\n",
    "print(\"math:\",math)\n",
    "print(\"physics:\",physics)\n",
    "print(\"addmath:\",addmath)\n",
    "print(\"islamiat:\",islamiat)\n",
    "print(\"totalmarks:\",total)\n",
    "percentage=total/500*100\n",
    "print(\"your percentage is :\",percentage)\n",
    "if percentage>=90:\n",
    "  print(\"Grade:A*\")\n",
    "elif percentage>=80:\n",
    "  print(\"grade:A\")\n",
    "elif percentage>=70:\n",
    "   print(\"grade:B\")\n",
    "elif percentage>=60:\n",
    "   print(\"grade:C\")\n",
    "elif percentage>=50:\n",
    "   print(\"grade:D\")\n",
    "elif percentage>=40:\n",
    "   print(\"grade:E\")\n",
    "else :\n",
    "   print(\"grade:Fail\")\n"
   ]
  },
  {
   "cell_type": "code",
   "execution_count": 29,
   "id": "28a586cc",
   "metadata": {},
   "outputs": [
    {
     "name": "stdout",
     "output_type": "stream",
     "text": [
      "Enter Any Number : 12\n",
      "Number is even\n"
     ]
    }
   ],
   "source": [
    "# Write a program which take input from user and identify that the given number is even or odd?\n",
    "number=int(input(\"Enter Any Number : \"))\n",
    "mod=number%2\n",
    "if mod>0 :\n",
    " print(\"Number is Odd\");\n",
    "else:\n",
    "  print(\"Number is even\");"
   ]
  },
  {
   "cell_type": "code",
   "execution_count": 31,
   "id": "f19396bd",
   "metadata": {},
   "outputs": [
    {
     "name": "stdout",
     "output_type": "stream",
     "text": [
      "8\n"
     ]
    }
   ],
   "source": [
    "# Write a program which print the length of the list?\n",
    "arr=[1,2,3,4,\"abdullah\",\"ali\",\"hamza\",\"ali\"]\n",
    "print(len(arr))"
   ]
  },
  {
   "cell_type": "code",
   "execution_count": 36,
   "id": "0639ab65",
   "metadata": {},
   "outputs": [],
   "source": [
    "# Write a Python program to sum all the numeric items in a list?\n"
   ]
  },
  {
   "cell_type": "code",
   "execution_count": 37,
   "id": "73a60d8a",
   "metadata": {},
   "outputs": [],
   "source": [
    "# Write a Python program to get the largest number from a numeric list."
   ]
  },
  {
   "cell_type": "code",
   "execution_count": 14,
   "id": "5b4982e7",
   "metadata": {},
   "outputs": [
    {
     "name": "stdout",
     "output_type": "stream",
     "text": [
      "1\n",
      "1\n",
      "2\n",
      "3\n"
     ]
    }
   ],
   "source": [
    "# Take a list, say for example this one:\n",
    "# a = [1, 1, 2, 3, 5, 8, 13, 21, 34, 55, 89]\n",
    "# Write a program that prints out all the elements of the list that are less than 5."
   ]
  },
  {
   "cell_type": "code",
   "execution_count": 15,
   "id": "071998d2",
   "metadata": {},
   "outputs": [],
   "source": [
    "# Assignment Ended"
   ]
  }
 ],
 "metadata": {
  "kernelspec": {
   "display_name": "Python 3",
   "language": "python",
   "name": "python3"
  },
  "language_info": {
   "codemirror_mode": {
    "name": "ipython",
    "version": 3
   },
   "file_extension": ".py",
   "mimetype": "text/x-python",
   "name": "python",
   "nbconvert_exporter": "python",
   "pygments_lexer": "ipython3",
   "version": "3.8.8"
  }
 },
 "nbformat": 4,
 "nbformat_minor": 5
}
