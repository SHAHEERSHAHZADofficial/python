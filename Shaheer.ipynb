{
 "cells": [
  {
   "cell_type": "code",
   "execution_count": 1,
   "id": "d5bbedfb",
   "metadata": {
    "scrolled": true
   },
   "outputs": [
    {
     "name": "stdout",
     "output_type": "stream",
     "text": [
      "hello world\n"
     ]
    }
   ],
   "source": [
    "print(\"hello world\")"
   ]
  },
  {
   "cell_type": "code",
   "execution_count": 17,
   "id": "a44b0725",
   "metadata": {
    "scrolled": true
   },
   "outputs": [
    {
     "name": "stdout",
     "output_type": "stream",
     "text": [
      "5\n"
     ]
    }
   ],
   "source": [
    "a=2\n",
    "b=3\n",
    "c=a+b\n",
    "print(c)"
   ]
  },
  {
   "cell_type": "code",
   "execution_count": null,
   "id": "4f700bcd",
   "metadata": {},
   "outputs": [],
   "source": [
    "print(\"Hello Mohammed\")\n",
    "#hello world programm"
   ]
  },
  {
   "cell_type": "code",
   "execution_count": 14,
   "id": "0d3a5937",
   "metadata": {},
   "outputs": [
    {
     "name": "stdout",
     "output_type": "stream",
     "text": [
      "enter their name Shaheer\n",
      "student: Shaheer\n",
      "enter your computer marks from 100:20\n",
      "computer: 20\n",
      "enter your math marks from 100:30\n",
      "math: 30\n",
      "enter your physics marks from 100:10\n",
      "physics: 10\n",
      "enter your addmath marks from 100:100\n",
      "addmath: 100\n",
      "enter your islamiat marks from 100:90\n",
      "islamiat: 90\n",
      "totalmarks: 250\n",
      "your percentage is : 50.0\n",
      "grade:D\n"
     ]
    }
   ],
   "source": [
    "name =input(\"enter their name \")\n",
    "print(\"student:\",name)\n",
    "computer=int(input(\"enter your computer marks from 100:\"))\n",
    "print(\"computer:\",computer)\n",
    "math=int(input(\"enter your math marks from 100:\"))\n",
    "print(\"math:\",math)\n",
    "physics=int(input(\"enter your physics marks from 100:\"))\n",
    "print(\"physics:\",physics)\n",
    "addmath=int(input(\"enter your addmath marks from 100:\"))\n",
    "print(\"addmath:\",addmath)\n",
    "islamiat=int(input(\"enter your islamiat marks from 100:\"))\n",
    "print(\"islamiat:\",islamiat)\n",
    "total=computer+islamiat+math+physics+addmath\n",
    "print(\"totalmarks:\",total)\n",
    "percentage=total/500*100\n",
    "print(\"your percentage is :\",percentage)\n",
    "if percentage>=90:\n",
    "  print(\"Grade:A*\")\n",
    "elif percentage>=80:\n",
    "  print(\"grade:A\")\n",
    "elif percentage>=70:\n",
    "   print(\"grade:B\")\n",
    "elif percentage>=60:\n",
    "   print(\"grade:C\")\n",
    "elif percentage>=50:\n",
    "   print(\"grade:D\")\n",
    "elif percentage>=40:\n",
    "   print(\"grade:E\")\n",
    "else :\n",
    "   print(\"grade:Fail\")\n"
   ]
  },
  {
   "cell_type": "code",
   "execution_count": 1,
   "id": "14c484c4",
   "metadata": {
    "scrolled": false
   },
   "outputs": [
    {
     "name": "stdout",
     "output_type": "stream",
     "text": [
      "your percentage is : 90.0 %\n",
      "Grade:A*\n"
     ]
    }
   ],
   "source": [
    "math=100\n",
    "english=80\n",
    "islamiat=90\n",
    "total=math+english+islamiat\n",
    "percentage=total/300*100;\n",
    "print(\"your percentage is :\",percentage,\"%\");\n",
    "if  percentage< 100 and percentage >= 90:\n",
    "  print(\"Grade:A*\");\n",
    "elif percentage<90 and percentage >= 80 :\n",
    "  print(\"grade:A\");\n",
    "elif percentage<80 and percentage >= 70:\n",
    "   print(\"grade:B\");\n",
    "elif percentage<70 and percentage >= 60:\n",
    "  print(\"grade:C\");\n",
    "elif percentage<60 and percentage >= 50:\n",
    "  print(\"grade:D\");\n",
    "elif percentage<50 and percentage >= 33:\n",
    "  print(\"grade:E\");\n",
    "elif percentage <0:\n",
    "  print(\"Enter Accurate Value\");\n",
    "else :\n",
    "  print(\"grade:F\");"
   ]
  },
  {
   "cell_type": "code",
   "execution_count": 23,
   "id": "fad29224",
   "metadata": {},
   "outputs": [
    {
     "name": "stdout",
     "output_type": "stream",
     "text": [
      "['hello world', 'jupyterNoteBook', 'flask', 'diango']\n"
     ]
    }
   ],
   "source": [
    "#list\n",
    "name=[\"hello world\",\"jupyterNoteBook\",\"flask\",\"diango\"]\n",
    "print(name)"
   ]
  },
  {
   "cell_type": "code",
   "execution_count": 12,
   "id": "9bcbc398",
   "metadata": {},
   "outputs": [
    {
     "data": {
      "text/plain": [
       "['hello world', 'jupyterNoteBook', 'flask', 'diango']"
      ]
     },
     "execution_count": 12,
     "metadata": {},
     "output_type": "execute_result"
    }
   ],
   "source": [
    "\n",
    "name"
   ]
  },
  {
   "cell_type": "code",
   "execution_count": 15,
   "id": "d65771fa",
   "metadata": {},
   "outputs": [
    {
     "name": "stdout",
     "output_type": "stream",
     "text": [
      "['hello world', 'javascript', 'jupyterNoteBook', 'flask', 'diango']\n"
     ]
    }
   ],
   "source": [
    "name.insert(1,\"javascript\")\n",
    "print(name)"
   ]
  },
  {
   "cell_type": "code",
   "execution_count": 22,
   "id": "05b6cc70",
   "metadata": {},
   "outputs": [
    {
     "data": {
      "text/plain": [
       "['hello world',\n",
       " 'javascript',\n",
       " 'jupyterNoteBook',\n",
       " 'flask',\n",
       " 'diango',\n",
       " 'ahmad',\n",
       " 'ahmad',\n",
       " 'ahmad',\n",
       " 'ahmad']"
      ]
     },
     "execution_count": 22,
     "metadata": {},
     "output_type": "execute_result"
    }
   ],
   "source": [
    "name"
   ]
  },
  {
   "cell_type": "code",
   "execution_count": 25,
   "id": "efbe58f2",
   "metadata": {},
   "outputs": [
    {
     "name": "stdout",
     "output_type": "stream",
     "text": [
      "['hello world', 'jupyterNoteBook', 'flask', 'diango', 'ahmad']\n"
     ]
    }
   ],
   "source": [
    "name.append(\"ahmad\")\n",
    "print(name)"
   ]
  },
  {
   "cell_type": "code",
   "execution_count": null,
   "id": "2af49cf0",
   "metadata": {},
   "outputs": [],
   "source": []
  },
  {
   "cell_type": "code",
   "execution_count": null,
   "id": "7063eeae",
   "metadata": {},
   "outputs": [],
   "source": []
  },
  {
   "cell_type": "code",
   "execution_count": null,
   "id": "777f5935",
   "metadata": {},
   "outputs": [],
   "source": []
  },
  {
   "cell_type": "code",
   "execution_count": null,
   "id": "5190d4e8",
   "metadata": {},
   "outputs": [],
   "source": []
  }
 ],
 "metadata": {
  "kernelspec": {
   "display_name": "Python 3",
   "language": "python",
   "name": "python3"
  },
  "language_info": {
   "codemirror_mode": {
    "name": "ipython",
    "version": 3
   },
   "file_extension": ".py",
   "mimetype": "text/x-python",
   "name": "python",
   "nbconvert_exporter": "python",
   "pygments_lexer": "ipython3",
   "version": "3.8.8"
  }
 },
 "nbformat": 4,
 "nbformat_minor": 5
}
